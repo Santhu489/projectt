{
  "nbformat": 4,
  "nbformat_minor": 0,
  "metadata": {
    "colab": {
      "provenance": [],
      "mount_file_id": "1O0Cg079XtciIIB1NKesGSU-uGbnCB-Nw",
      "authorship_tag": "ABX9TyObvdWP3KTXVgW/Z+uiA8n4",
      "include_colab_link": true
    },
    "kernelspec": {
      "name": "python3",
      "display_name": "Python 3"
    },
    "language_info": {
      "name": "python"
    }
  },
  "cells": [
    {
      "cell_type": "markdown",
      "metadata": {
        "id": "view-in-github",
        "colab_type": "text"
      },
      "source": [
        "<a href=\"https://colab.research.google.com/github/Santhu489/projectt/blob/main/1.ipynb\" target=\"_parent\"><img src=\"https://colab.research.google.com/assets/colab-badge.svg\" alt=\"Open In Colab\"/></a>"
      ]
    },
    {
      "cell_type": "code",
      "execution_count": 6,
      "metadata": {
        "colab": {
          "base_uri": "https://localhost:8080/"
        },
        "id": "dEsahFNIECX9",
        "outputId": "80764f02-3a6e-4303-8ecf-ec264b6f77a4"
      },
      "outputs": [
        {
          "output_type": "stream",
          "name": "stderr",
          "text": [
            "/usr/local/lib/python3.10/dist-packages/sklearn/preprocessing/_encoders.py:868: FutureWarning: `sparse` was renamed to `sparse_output` in version 1.2 and will be removed in 1.4. `sparse_output` is ignored unless you leave `sparse` to its default value.\n",
            "  warnings.warn(\n"
          ]
        }
      ],
      "source": [
        "import pandas as pd\n",
        "from sklearn.model_selection import train_test_split\n",
        "from sklearn.preprocessing import LabelEncoder,OneHotEncoder\n",
        "from sklearn.ensemble import RandomForestClassifier, GradientBoostingClassifier\n",
        "from sklearn.svm import SVC\n",
        "from sklearn.metrics import classification_report\n",
        "\n",
        "# Load your dataset\n",
        "# Assuming your file is named \"genes_dataset.csv\"\n",
        "df = pd.read_csv(\"drive/MyDrive/Gene/sfari_genes.csv\")\n",
        "\n",
        "# Select relevant columns\n",
        "df = df[['gene-symbol', 'syndromic']]\n",
        "\n",
        "# Encode 'syndromic' column to 0 and 1\n",
        "le = LabelEncoder()\n",
        "df['syndromic'] = le.fit_transform(df['syndromic'])\n",
        "\n",
        "# One-hot encode 'gene-symbol' column\n",
        "onehot_encoder = OneHotEncoder(sparse=False)\n",
        "gene_symbols_encoded = onehot_encoder.fit_transform(df[['gene-symbol']])\n",
        "gene_symbols_encoded_df = pd.DataFrame(gene_symbols_encoded, columns=[f'gene_{i}' for i in range(gene_symbols_encoded.shape[1])])\n",
        "df = pd.concat([df, gene_symbols_encoded_df], axis=1)\n",
        "\n",
        "# Split the data into training and testing sets\n",
        "X_train, X_test, y_train, y_test = train_test_split(df['gene-symbol'], df['syndromic'], test_size=0.2, random_state=42)\n"
      ]
    },
    {
      "cell_type": "code",
      "source": [
        "import pandas as pd\n",
        "from sklearn.model_selection import train_test_split\n",
        "from sklearn.preprocessing import LabelEncoder, OneHotEncoder\n",
        "from sklearn.ensemble import RandomForestClassifier, GradientBoostingClassifier\n",
        "from sklearn.svm import SVC\n",
        "from sklearn.metrics import classification_report\n",
        "\n",
        "# Load your dataset\n",
        "# Assuming your file is named \"genes_dataset.csv\"\n",
        "df = pd.read_csv(\"drive/MyDrive/Gene/sfari_genes.csv\")\n",
        "\n",
        "# Select relevant columns\n",
        "df = df[['gene-symbol', 'syndromic']]\n",
        "\n",
        "# Encode 'syndromic' column to 0 and 1\n",
        "le = LabelEncoder()\n",
        "df['syndromic'] = le.fit_transform(df['syndromic'])\n",
        "\n",
        "# One-hot encode 'gene-symbol' column\n",
        "onehot_encoder = OneHotEncoder(sparse=False)\n",
        "gene_symbols_encoded = onehot_encoder.fit_transform(df[['gene-symbol']])\n",
        "gene_symbols_encoded_df = pd.DataFrame(gene_symbols_encoded, columns=[f'gene_{i}' for i in range(gene_symbols_encoded.shape[1])])\n",
        "df = pd.concat([df, gene_symbols_encoded_df], axis=1)\n",
        "\n",
        "# Split the data into training and testing sets\n",
        "X_train, X_test, y_train, y_test = train_test_split(df.drop(['gene-symbol', 'syndromic'], axis=1), df['syndromic'], test_size=0.2, random_state=42)\n",
        "\n",
        "# Initialize classifiers\n",
        "rf_classifier = RandomForestClassifier()\n",
        "gb_classifier = GradientBoostingClassifier()\n",
        "svm_classifier = SVC()\n",
        "\n",
        "# Train models\n",
        "rf_classifier.fit(X_train, y_train)\n",
        "gb_classifier.fit(X_train, y_train)\n",
        "svm_classifier.fit(X_train, y_train)\n",
        "\n",
        "# Make predictions\n",
        "rf_predictions = rf_classifier.predict(X_test)\n",
        "gb_predictions = gb_classifier.predict(X_test)\n",
        "svm_predictions = svm_classifier.predict(X_test)\n",
        "\n",
        "# Evaluate models\n",
        "print(\"Random Forest Classification Report:\")\n",
        "print(classification_report(y_test, rf_predictions))\n",
        "\n",
        "print(\"\\nGradient Boosting Classification Report:\")\n",
        "print(classification_report(y_test, gb_predictions))\n",
        "\n",
        "print(\"\\nSupport Vector Machine Classification Report:\")\n",
        "print(classification_report(y_test, svm_predictions))\n"
      ],
      "metadata": {
        "colab": {
          "base_uri": "https://localhost:8080/"
        },
        "id": "mkoLBREGFoxE",
        "outputId": "c9f5382e-de97-47ab-af7e-e2c651417161"
      },
      "execution_count": 10,
      "outputs": [
        {
          "output_type": "stream",
          "name": "stderr",
          "text": [
            "/usr/local/lib/python3.10/dist-packages/sklearn/preprocessing/_encoders.py:868: FutureWarning: `sparse` was renamed to `sparse_output` in version 1.2 and will be removed in 1.4. `sparse_output` is ignored unless you leave `sparse` to its default value.\n",
            "  warnings.warn(\n"
          ]
        },
        {
          "output_type": "stream",
          "name": "stdout",
          "text": [
            "Random Forest Classification Report:\n",
            "              precision    recall  f1-score   support\n",
            "\n",
            "           0       0.77      1.00      0.87       159\n",
            "           1       0.00      0.00      0.00        48\n",
            "\n",
            "    accuracy                           0.77       207\n",
            "   macro avg       0.38      0.50      0.43       207\n",
            "weighted avg       0.59      0.77      0.67       207\n",
            "\n",
            "\n",
            "Gradient Boosting Classification Report:\n",
            "              precision    recall  f1-score   support\n",
            "\n",
            "           0       0.77      1.00      0.87       159\n",
            "           1       0.00      0.00      0.00        48\n",
            "\n",
            "    accuracy                           0.77       207\n",
            "   macro avg       0.38      0.50      0.43       207\n",
            "weighted avg       0.59      0.77      0.67       207\n",
            "\n",
            "\n",
            "Support Vector Machine Classification Report:\n",
            "              precision    recall  f1-score   support\n",
            "\n",
            "           0       0.77      1.00      0.87       159\n",
            "           1       0.00      0.00      0.00        48\n",
            "\n",
            "    accuracy                           0.77       207\n",
            "   macro avg       0.38      0.50      0.43       207\n",
            "weighted avg       0.59      0.77      0.67       207\n",
            "\n"
          ]
        },
        {
          "output_type": "stream",
          "name": "stderr",
          "text": [
            "/usr/local/lib/python3.10/dist-packages/sklearn/metrics/_classification.py:1344: UndefinedMetricWarning: Precision and F-score are ill-defined and being set to 0.0 in labels with no predicted samples. Use `zero_division` parameter to control this behavior.\n",
            "  _warn_prf(average, modifier, msg_start, len(result))\n",
            "/usr/local/lib/python3.10/dist-packages/sklearn/metrics/_classification.py:1344: UndefinedMetricWarning: Precision and F-score are ill-defined and being set to 0.0 in labels with no predicted samples. Use `zero_division` parameter to control this behavior.\n",
            "  _warn_prf(average, modifier, msg_start, len(result))\n",
            "/usr/local/lib/python3.10/dist-packages/sklearn/metrics/_classification.py:1344: UndefinedMetricWarning: Precision and F-score are ill-defined and being set to 0.0 in labels with no predicted samples. Use `zero_division` parameter to control this behavior.\n",
            "  _warn_prf(average, modifier, msg_start, len(result))\n",
            "/usr/local/lib/python3.10/dist-packages/sklearn/metrics/_classification.py:1344: UndefinedMetricWarning: Precision and F-score are ill-defined and being set to 0.0 in labels with no predicted samples. Use `zero_division` parameter to control this behavior.\n",
            "  _warn_prf(average, modifier, msg_start, len(result))\n",
            "/usr/local/lib/python3.10/dist-packages/sklearn/metrics/_classification.py:1344: UndefinedMetricWarning: Precision and F-score are ill-defined and being set to 0.0 in labels with no predicted samples. Use `zero_division` parameter to control this behavior.\n",
            "  _warn_prf(average, modifier, msg_start, len(result))\n",
            "/usr/local/lib/python3.10/dist-packages/sklearn/metrics/_classification.py:1344: UndefinedMetricWarning: Precision and F-score are ill-defined and being set to 0.0 in labels with no predicted samples. Use `zero_division` parameter to control this behavior.\n",
            "  _warn_prf(average, modifier, msg_start, len(result))\n",
            "/usr/local/lib/python3.10/dist-packages/sklearn/metrics/_classification.py:1344: UndefinedMetricWarning: Precision and F-score are ill-defined and being set to 0.0 in labels with no predicted samples. Use `zero_division` parameter to control this behavior.\n",
            "  _warn_prf(average, modifier, msg_start, len(result))\n",
            "/usr/local/lib/python3.10/dist-packages/sklearn/metrics/_classification.py:1344: UndefinedMetricWarning: Precision and F-score are ill-defined and being set to 0.0 in labels with no predicted samples. Use `zero_division` parameter to control this behavior.\n",
            "  _warn_prf(average, modifier, msg_start, len(result))\n",
            "/usr/local/lib/python3.10/dist-packages/sklearn/metrics/_classification.py:1344: UndefinedMetricWarning: Precision and F-score are ill-defined and being set to 0.0 in labels with no predicted samples. Use `zero_division` parameter to control this behavior.\n",
            "  _warn_prf(average, modifier, msg_start, len(result))\n"
          ]
        }
      ]
    },
    {
      "cell_type": "code",
      "source": [
        "%%writefile app.py\n",
        "import streamlit as st\n",
        "import pandas as pd\n",
        "from sklearn.ensemble import RandomForestClassifier\n",
        "from sklearn.preprocessing import LabelEncoder, OneHotEncoder\n",
        "\n",
        "# Load your dataset\n",
        "# Assuming your file is named \"genes_dataset.csv\"\n",
        "df = pd.read_csv(\"genes_dataset.csv\")\n",
        "\n",
        "# Select relevant columns\n",
        "df = df[['gene-symbol', 'syndromic']]\n",
        "\n",
        "# Encode 'syndromic' column to 0 and 1\n",
        "le = LabelEncoder()\n",
        "df['syndromic'] = le.fit_transform(df['syndromic'])\n",
        "\n",
        "# One-hot encode 'gene-symbol' column\n",
        "onehot_encoder = OneHotEncoder(sparse=False)\n",
        "gene_symbols_encoded = onehot_encoder.fit_transform(df[['gene-symbol']])\n",
        "gene_symbols_encoded_df = pd.DataFrame(gene_symbols_encoded, columns=[f'gene_{i}' for i in range(gene_symbols_encoded.shape[1])])\n",
        "df = pd.concat([df, gene_symbols_encoded_df], axis=1)\n",
        "\n",
        "# Train a simple model (you can use your trained model here)\n",
        "model = RandomForestClassifier()\n",
        "model.fit(df.drop(['gene-symbol', 'syndromic'], axis=1), df['syndromic'])\n",
        "\n",
        "# Create Streamlit app\n",
        "st.title(\"Gene Classification Web App\")\n",
        "\n",
        "# User input for gene symbol\n",
        "gene_symbol = st.text_input(\"Enter Gene Symbol:\")\n",
        "\n",
        "# Make prediction\n",
        "if st.button(\"Predict\"):\n",
        "    encoded_symbol = onehot_encoder.transform([[gene_symbol]])\n",
        "    prediction = model.predict(encoded_symbol)\n",
        "    result = \" the gene has sign of Autism\" if prediction[0] == 1 else \"the gene has no sign of autism\"\n",
        "    st.write(f\"Prediction: {result}\")\n"
      ],
      "metadata": {
        "colab": {
          "base_uri": "https://localhost:8080/"
        },
        "id": "jUSwnc17ExA_",
        "outputId": "8fb01fea-170f-42eb-939b-ed54ce9a7370"
      },
      "execution_count": 11,
      "outputs": [
        {
          "output_type": "stream",
          "name": "stdout",
          "text": [
            "Writing app.py\n"
          ]
        }
      ]
    }
  ]
}